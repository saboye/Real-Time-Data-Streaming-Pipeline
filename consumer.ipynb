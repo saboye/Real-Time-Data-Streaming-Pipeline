{
 "cells": [
  {
   "cell_type": "code",
   "execution_count": 4,
   "id": "2194dc51",
   "metadata": {},
   "outputs": [],
   "source": [
    "import json\n",
    "from kafka import KafkaConsumer"
   ]
  },
  {
   "cell_type": "code",
   "execution_count": null,
   "id": "bffa2cec",
   "metadata": {},
   "outputs": [
    {
     "name": "stdout",
     "output_type": "stream",
     "text": [
      "starting ..........\n"
     ]
    }
   ],
   "source": [
    "if __name__ == \"__main__\":\n",
    "    consumer = KafkaConsumer(\n",
    "        'message',\n",
    "        bootstrap_servers=['localhost:9092'],\n",
    "        group_id='names-consumer-group'\n",
    "    )\n",
    "    print(\"starting ..........\")\n",
    "    for message in consumer:\n",
    "        print(\"Message = {}\".format(json.loads(message.value)))"
   ]
  },
  {
   "cell_type": "code",
   "execution_count": null,
   "id": "d2909938",
   "metadata": {},
   "outputs": [],
   "source": []
  }
 ],
 "metadata": {
  "kernelspec": {
   "display_name": "Python 3 (ipykernel)",
   "language": "python",
   "name": "python3"
  },
  "language_info": {
   "codemirror_mode": {
    "name": "ipython",
    "version": 3
   },
   "file_extension": ".py",
   "mimetype": "text/x-python",
   "name": "python",
   "nbconvert_exporter": "python",
   "pygments_lexer": "ipython3",
   "version": "3.8.8"
  }
 },
 "nbformat": 4,
 "nbformat_minor": 5
}
